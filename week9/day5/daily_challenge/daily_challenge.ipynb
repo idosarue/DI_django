{
 "cells": [
  {
   "cell_type": "code",
   "execution_count": 1,
   "id": "92b2c436",
   "metadata": {},
   "outputs": [
    {
     "name": "stdout",
     "output_type": "stream",
     "text": [
      "Requirement already satisfied: python-twitter in c:\\users\\user\\appdata\\local\\programs\\python\\python39\\lib\\site-packages (3.5)\n",
      "Requirement already satisfied: requests in c:\\users\\user\\appdata\\local\\programs\\python\\python39\\lib\\site-packages (from python-twitter) (2.26.0)\n",
      "Requirement already satisfied: future in c:\\users\\user\\appdata\\local\\programs\\python\\python39\\lib\\site-packages (from python-twitter) (0.18.2)\n",
      "Requirement already satisfied: requests-oauthlib in c:\\users\\user\\appdata\\local\\programs\\python\\python39\\lib\\site-packages (from python-twitter) (1.3.0)\n",
      "Requirement already satisfied: certifi>=2017.4.17 in c:\\users\\user\\appdata\\local\\programs\\python\\python39\\lib\\site-packages (from requests->python-twitter) (2021.5.30)\n",
      "Requirement already satisfied: charset-normalizer~=2.0.0 in c:\\users\\user\\appdata\\local\\programs\\python\\python39\\lib\\site-packages (from requests->python-twitter) (2.0.3)\n",
      "Requirement already satisfied: urllib3<1.27,>=1.21.1 in c:\\users\\user\\appdata\\local\\programs\\python\\python39\\lib\\site-packages (from requests->python-twitter) (1.26.6)\n",
      "Requirement already satisfied: idna<4,>=2.5 in c:\\users\\user\\appdata\\local\\programs\\python\\python39\\lib\\site-packages (from requests->python-twitter) (3.2)\n",
      "Requirement already satisfied: oauthlib>=3.0.0 in c:\\users\\user\\appdata\\local\\programs\\python\\python39\\lib\\site-packages (from requests-oauthlib->python-twitter) (3.1.1)\n"
     ]
    },
    {
     "name": "stderr",
     "output_type": "stream",
     "text": [
      "WARNING: You are using pip version 21.2.2; however, version 21.2.4 is available.\n",
      "You should consider upgrading via the 'C:\\Users\\User\\AppData\\Local\\Programs\\Python\\Python39\\python.exe -m pip install --upgrade pip' command.\n"
     ]
    }
   ],
   "source": [
    "\n",
    "!pip install python-twitter"
   ]
  },
  {
   "cell_type": "code",
   "execution_count": 2,
   "id": "c240439f",
   "metadata": {},
   "outputs": [],
   "source": [
    "import tweepy\n",
    "import pandas as pd\n",
    "import twitter"
   ]
  },
  {
   "cell_type": "code",
   "execution_count": 65,
   "id": "c00b742a",
   "metadata": {},
   "outputs": [],
   "source": []
  },
  {
   "cell_type": "code",
   "execution_count": 3,
   "id": "d5571d4d",
   "metadata": {},
   "outputs": [],
   "source": [
    "api = twitter.Api(consumer_key='OtEOrYnSuIxAQLw6gEPLZgkU1',\n",
    "                  consumer_secret='l0mxgpzThHDDDgnnrjMFiUCFqLNE1DcLvlBLz6TZnUw5V5nvE0',\n",
    "                  access_token_key='1430963572776083463-7cD6PRIgZceKbO4ojDRdYF5luzJuNg',\n",
    "                  access_token_secret='aLXIjtCaoHBWppfdcJcZjMsAOQNp6NaXJNv8XsWnznS1n')"
   ]
  },
  {
   "cell_type": "code",
   "execution_count": 4,
   "id": "64a3a572",
   "metadata": {},
   "outputs": [
    {
     "name": "stdout",
     "output_type": "stream",
     "text": [
      "{\"created_at\": \"Thu Aug 26 18:41:22 +0000 2021\", \"default_profile\": true, \"default_profile_image\": true, \"id\": 1430963572776083463, \"id_str\": \"1430963572776083463\", \"name\": \"Ido Sarue\", \"profile_background_color\": \"F5F8FA\", \"profile_image_url\": \"http://abs.twimg.com/sticky/default_profile_images/default_profile_normal.png\", \"profile_image_url_https\": \"https://abs.twimg.com/sticky/default_profile_images/default_profile_normal.png\", \"profile_link_color\": \"1DA1F2\", \"profile_sidebar_border_color\": \"C0DEED\", \"profile_sidebar_fill_color\": \"DDEEF6\", \"profile_text_color\": \"333333\", \"profile_use_background_image\": true, \"screen_name\": \"IdoSarue\", \"withheld_in_countries\": []}\n"
     ]
    }
   ],
   "source": [
    "print(api.VerifyCredentials())\n"
   ]
  },
  {
   "cell_type": "code",
   "execution_count": 7,
   "id": "a9fce2fd",
   "metadata": {},
   "outputs": [
    {
     "name": "stdout",
     "output_type": "stream",
     "text": [
      "[]\n"
     ]
    }
   ],
   "source": [
    "followers = api.GetFollowers()\n",
    "print([f.name for f in followers])"
   ]
  },
  {
   "cell_type": "code",
   "execution_count": 8,
   "id": "0d5fa05d",
   "metadata": {},
   "outputs": [
    {
     "data": {
      "text/plain": [
       "[]"
      ]
     },
     "execution_count": 8,
     "metadata": {},
     "output_type": "execute_result"
    }
   ],
   "source": [
    "api.GetSearch(term='bigdata', until=2016-11-21, count=10)"
   ]
  }
 ],
 "metadata": {
  "kernelspec": {
   "display_name": "Python 3 (ipykernel)",
   "language": "python",
   "name": "python3"
  },
  "language_info": {
   "codemirror_mode": {
    "name": "ipython",
    "version": 3
   },
   "file_extension": ".py",
   "mimetype": "text/x-python",
   "name": "python",
   "nbconvert_exporter": "python",
   "pygments_lexer": "ipython3",
   "version": "3.9.6"
  }
 },
 "nbformat": 4,
 "nbformat_minor": 5
}
